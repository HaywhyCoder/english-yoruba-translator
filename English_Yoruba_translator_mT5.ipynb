{
  "metadata": {
    "kernelspec": {
      "name": "python3",
      "display_name": "Python 3",
      "language": "python"
    },
    "language_info": {
      "name": "python",
      "version": "3.11.11",
      "mimetype": "text/x-python",
      "codemirror_mode": {
        "name": "ipython",
        "version": 3
      },
      "pygments_lexer": "ipython3",
      "nbconvert_exporter": "python",
      "file_extension": ".py"
    },
    "colab": {
      "provenance": [],
      "gpuType": "T4",
      "include_colab_link": true
    },
    "accelerator": "GPU",
    "kaggle": {
      "accelerator": "gpu",
      "dataSources": [
        {
          "sourceId": 10668170,
          "sourceType": "datasetVersion",
          "datasetId": 6607180
        }
      ],
      "dockerImageVersionId": 31041,
      "isInternetEnabled": true,
      "language": "python",
      "sourceType": "notebook",
      "isGpuEnabled": true
    }
  },
  "nbformat_minor": 0,
  "nbformat": 4,
  "cells": [
    {
      "cell_type": "markdown",
      "metadata": {
        "id": "view-in-github",
        "colab_type": "text"
      },
      "source": [
        "<a href=\"https://colab.research.google.com/github/HaywhyCoder/english-yoruba-translator/blob/main/English_Yoruba_translator_mT5.ipynb\" target=\"_parent\"><img src=\"https://colab.research.google.com/assets/colab-badge.svg\" alt=\"Open In Colab\"/></a>"
      ]
    },
    {
      "cell_type": "markdown",
      "source": [
        "### Yoruba - English Translator"
      ],
      "metadata": {
        "id": "wMXQcj8IVRMP"
      }
    },
    {
      "cell_type": "markdown",
      "source": [
        "#### Import Libraries"
      ],
      "metadata": {
        "id": "qNwdl9TTVYi-"
      }
    },
    {
      "cell_type": "code",
      "source": [
        "# ML Libraries\n",
        "import pandas as pd\n",
        "import numpy\n",
        "import numpy as np\n",
        "from sklearn.model_selection import train_test_split\n",
        "\n",
        "# Huggingface, NLP\n",
        "from transformers import AutoTokenizer, AutoModelForSeq2SeqLM, Seq2SeqTrainer, Seq2SeqTrainingArguments, DataCollatorForSeq2Seq\n",
        "from datasets import load_dataset, Dataset, DatasetDict, concatenate_datasets\n",
        "from sacrebleu import corpus_bleu\n",
        "import torch\n"
      ],
      "metadata": {
        "id": "w8fYffwSRRrL",
        "trusted": true,
        "execution": {
          "iopub.status.busy": "2025-05-19T18:18:53.527976Z",
          "iopub.execute_input": "2025-05-19T18:18:53.528776Z",
          "iopub.status.idle": "2025-05-19T18:18:53.616456Z",
          "shell.execute_reply.started": "2025-05-19T18:18:53.528744Z",
          "shell.execute_reply": "2025-05-19T18:18:53.615916Z"
        }
      },
      "outputs": [],
      "execution_count": null
    },
    {
      "cell_type": "markdown",
      "source": [
        "#### Load Datasets"
      ],
      "metadata": {
        "id": "bO4os9BZBItw"
      }
    },
    {
      "cell_type": "code",
      "source": [
        "data = pd.read_csv(\"/kaggle/input/yoruba-english-pair/JW300_en-yo\")\n",
        "data.head()"
      ],
      "metadata": {
        "id": "16PAxiPMjiYF",
        "outputId": "7d2de39b-9853-4dbd-af16-03ea23fcb0ac",
        "trusted": true,
        "execution": {
          "iopub.status.busy": "2025-05-19T18:18:57.097746Z",
          "iopub.execute_input": "2025-05-19T18:18:57.098657Z",
          "iopub.status.idle": "2025-05-19T18:19:00.558738Z",
          "shell.execute_reply.started": "2025-05-19T18:18:57.098631Z",
          "shell.execute_reply": "2025-05-19T18:19:00.558015Z"
        }
      },
      "outputs": [
        {
          "execution_count": 6,
          "output_type": "execute_result",
          "data": {
            "text/plain": "                                              yoruba  \\\n0  Lílo Àkàbà — Ǹjẹ́ O Máa Ń Ṣe Àyẹ̀wò Wọ̀nyí Tó ...   \n1                              Látọwọ́ akọ̀ròyìn Jí!   \n2                                         ní Ireland   \n3     PAUL fẹ́ pààrọ̀ gílóòbù iná tó wà lóde ilé ẹ̀.   \n4  Ó tún fẹ́ nu àwọn fèrèsé pẹ̀tẹ́ẹ̀sì lọ́wọ́ ita...   \n\n                                             english  \n0   Using Ladders — Do You Make These Safety Checks?  \n1                                          By Awake!  \n2                           correspondent in Ireland  \n3  PAUL needed to change a bulb in an outside lig...  \n4  He also needed to clean the outside upstairs w...  ",
            "text/html": "<div>\n<style scoped>\n    .dataframe tbody tr th:only-of-type {\n        vertical-align: middle;\n    }\n\n    .dataframe tbody tr th {\n        vertical-align: top;\n    }\n\n    .dataframe thead th {\n        text-align: right;\n    }\n</style>\n<table border=\"1\" class=\"dataframe\">\n  <thead>\n    <tr style=\"text-align: right;\">\n      <th></th>\n      <th>yoruba</th>\n      <th>english</th>\n    </tr>\n  </thead>\n  <tbody>\n    <tr>\n      <th>0</th>\n      <td>Lílo Àkàbà — Ǹjẹ́ O Máa Ń Ṣe Àyẹ̀wò Wọ̀nyí Tó ...</td>\n      <td>Using Ladders — Do You Make These Safety Checks?</td>\n    </tr>\n    <tr>\n      <th>1</th>\n      <td>Látọwọ́ akọ̀ròyìn Jí!</td>\n      <td>By Awake!</td>\n    </tr>\n    <tr>\n      <th>2</th>\n      <td>ní Ireland</td>\n      <td>correspondent in Ireland</td>\n    </tr>\n    <tr>\n      <th>3</th>\n      <td>PAUL fẹ́ pààrọ̀ gílóòbù iná tó wà lóde ilé ẹ̀.</td>\n      <td>PAUL needed to change a bulb in an outside lig...</td>\n    </tr>\n    <tr>\n      <th>4</th>\n      <td>Ó tún fẹ́ nu àwọn fèrèsé pẹ̀tẹ́ẹ̀sì lọ́wọ́ ita...</td>\n      <td>He also needed to clean the outside upstairs w...</td>\n    </tr>\n  </tbody>\n</table>\n</div>"
          },
          "metadata": {}
        }
      ],
      "execution_count": null
    },
    {
      "cell_type": "code",
      "source": [
        "data.shape"
      ],
      "metadata": {
        "id": "AfTy7IlPjv0v",
        "outputId": "e532d138-0c81-4439-872a-9337374177f9",
        "trusted": true,
        "execution": {
          "iopub.status.busy": "2025-05-19T18:19:01.157474Z",
          "iopub.execute_input": "2025-05-19T18:19:01.158017Z",
          "iopub.status.idle": "2025-05-19T18:19:01.162611Z",
          "shell.execute_reply.started": "2025-05-19T18:19:01.157992Z",
          "shell.execute_reply": "2025-05-19T18:19:01.162028Z"
        }
      },
      "outputs": [
        {
          "execution_count": 7,
          "output_type": "execute_result",
          "data": {
            "text/plain": "(474988, 2)"
          },
          "metadata": {}
        }
      ],
      "execution_count": null
    },
    {
      "cell_type": "code",
      "source": [
        "# Check for rows with empty source text\n",
        "print(data['english'].isnull().sum())"
      ],
      "metadata": {
        "id": "Kd0zHdVPnlUE",
        "outputId": "191061df-e57c-45a2-ce69-80963a6756a4",
        "trusted": true,
        "execution": {
          "iopub.status.busy": "2025-05-19T18:19:05.027571Z",
          "iopub.execute_input": "2025-05-19T18:19:05.028160Z",
          "iopub.status.idle": "2025-05-19T18:19:05.071366Z",
          "shell.execute_reply.started": "2025-05-19T18:19:05.028138Z",
          "shell.execute_reply": "2025-05-19T18:19:05.070596Z"
        }
      },
      "outputs": [
        {
          "name": "stdout",
          "text": "12502\n",
          "output_type": "stream"
        }
      ],
      "execution_count": null
    },
    {
      "cell_type": "code",
      "source": [
        "data.dropna(inplace=True)  # drop rows with missing source or target texts\n",
        "data.shape"
      ],
      "metadata": {
        "id": "dhcDFwNcm7g0",
        "outputId": "aec381f8-4077-466f-a61c-56fce2ce836d",
        "trusted": true,
        "execution": {
          "iopub.status.busy": "2025-05-19T18:19:05.747593Z",
          "iopub.execute_input": "2025-05-19T18:19:05.748296Z",
          "iopub.status.idle": "2025-05-19T18:19:05.873092Z",
          "shell.execute_reply.started": "2025-05-19T18:19:05.748270Z",
          "shell.execute_reply": "2025-05-19T18:19:05.872543Z"
        }
      },
      "outputs": [
        {
          "execution_count": 9,
          "output_type": "execute_result",
          "data": {
            "text/plain": "(459871, 2)"
          },
          "metadata": {}
        }
      ],
      "execution_count": null
    },
    {
      "cell_type": "code",
      "source": [
        "data['yoruba'] = data[\"yoruba\"].astype('str')"
      ],
      "metadata": {
        "id": "DBvntS1BlmdH",
        "trusted": true,
        "execution": {
          "iopub.status.busy": "2025-05-19T18:19:08.629557Z",
          "iopub.execute_input": "2025-05-19T18:19:08.630085Z",
          "iopub.status.idle": "2025-05-19T18:19:08.663521Z",
          "shell.execute_reply.started": "2025-05-19T18:19:08.630063Z",
          "shell.execute_reply": "2025-05-19T18:19:08.662874Z"
        }
      },
      "outputs": [],
      "execution_count": null
    },
    {
      "cell_type": "code",
      "source": [
        "new_data = data[data['yoruba'].apply(len) > 10]     # Select sentences longer than 10 chars\n",
        "new_data = new_data.sample(5000, random_state=12, ignore_index=True)\n",
        "new_data.head()"
      ],
      "metadata": {
        "id": "bslFwjtyjvya",
        "outputId": "4a787aa4-486e-4b64-c4b4-feb756c6e303",
        "trusted": true,
        "execution": {
          "iopub.status.busy": "2025-05-19T21:29:26.287325Z",
          "iopub.execute_input": "2025-05-19T21:29:26.287852Z",
          "iopub.status.idle": "2025-05-19T21:29:26.580005Z",
          "shell.execute_reply.started": "2025-05-19T21:29:26.287829Z",
          "shell.execute_reply": "2025-05-19T21:29:26.579257Z"
        }
      },
      "outputs": [
        {
          "execution_count": 112,
          "output_type": "execute_result",
          "data": {
            "text/plain": "                                              yoruba  \\\n0                       [ Àpótí tó wà ní ojú ìwé 6 ]   \n1        Fọ́tò tí èmi, Eddie àti Bobby yà láìpẹ́ yìí   \n2  Bí àpẹẹrẹ, Ọ̀bọ ń ṣiṣẹ́, ìnàkí ń jẹ ẹ́, èyí tó...   \n3                      [ Àwòrán tó wà ní ojú ìwé 7 ]   \n4  Bí ọ̀rọ̀ ṣe máa ń rí lára wa yàtọ̀ síra, a sì ...   \n\n                                             english  \n0                                  [ Box on page 6 ]  \n1                      With Eddie and Bobby recently  \n2  For example, Monkey works, baboon eats, means ...  \n3                              [ Picture on page 7 ]  \n4  People have different temperaments and levels ...  ",
            "text/html": "<div>\n<style scoped>\n    .dataframe tbody tr th:only-of-type {\n        vertical-align: middle;\n    }\n\n    .dataframe tbody tr th {\n        vertical-align: top;\n    }\n\n    .dataframe thead th {\n        text-align: right;\n    }\n</style>\n<table border=\"1\" class=\"dataframe\">\n  <thead>\n    <tr style=\"text-align: right;\">\n      <th></th>\n      <th>yoruba</th>\n      <th>english</th>\n    </tr>\n  </thead>\n  <tbody>\n    <tr>\n      <th>0</th>\n      <td>[ Àpótí tó wà ní ojú ìwé 6 ]</td>\n      <td>[ Box on page 6 ]</td>\n    </tr>\n    <tr>\n      <th>1</th>\n      <td>Fọ́tò tí èmi, Eddie àti Bobby yà láìpẹ́ yìí</td>\n      <td>With Eddie and Bobby recently</td>\n    </tr>\n    <tr>\n      <th>2</th>\n      <td>Bí àpẹẹrẹ, Ọ̀bọ ń ṣiṣẹ́, ìnàkí ń jẹ ẹ́, èyí tó...</td>\n      <td>For example, Monkey works, baboon eats, means ...</td>\n    </tr>\n    <tr>\n      <th>3</th>\n      <td>[ Àwòrán tó wà ní ojú ìwé 7 ]</td>\n      <td>[ Picture on page 7 ]</td>\n    </tr>\n    <tr>\n      <th>4</th>\n      <td>Bí ọ̀rọ̀ ṣe máa ń rí lára wa yàtọ̀ síra, a sì ...</td>\n      <td>People have different temperaments and levels ...</td>\n    </tr>\n  </tbody>\n</table>\n</div>"
          },
          "metadata": {}
        }
      ],
      "execution_count": null
    },
    {
      "cell_type": "code",
      "source": [
        "new_data.columns = ['yor', 'en']"
      ],
      "metadata": {
        "id": "Budgc3Fmjvu3",
        "trusted": true,
        "execution": {
          "iopub.status.busy": "2025-05-19T18:21:14.727207Z",
          "iopub.execute_input": "2025-05-19T18:21:14.727730Z",
          "iopub.status.idle": "2025-05-19T18:21:14.731307Z",
          "shell.execute_reply.started": "2025-05-19T18:21:14.727707Z",
          "shell.execute_reply": "2025-05-19T18:21:14.730556Z"
        }
      },
      "outputs": [],
      "execution_count": null
    },
    {
      "cell_type": "code",
      "source": [
        "train_data, val_data = train_test_split(new_data, test_size=.2, random_state=42)\n",
        "train_data, test_data = train_test_split(train_data, test_size=.1, random_state=42)\n",
        "print(train_data.shape, val_data.shape, test_data.shape)"
      ],
      "metadata": {
        "id": "ON1Iv4_KqZlY",
        "outputId": "a2d970e9-2fac-4274-ebf2-0450e8f2182f",
        "trusted": true,
        "execution": {
          "iopub.status.busy": "2025-05-19T18:21:21.347687Z",
          "iopub.execute_input": "2025-05-19T18:21:21.348284Z",
          "iopub.status.idle": "2025-05-19T18:21:21.356931Z",
          "shell.execute_reply.started": "2025-05-19T18:21:21.348262Z",
          "shell.execute_reply": "2025-05-19T18:21:21.356365Z"
        }
      },
      "outputs": [
        {
          "name": "stdout",
          "text": "(3600, 2) (1000, 2) (400, 2)\n",
          "output_type": "stream"
        }
      ],
      "execution_count": null
    },
    {
      "cell_type": "code",
      "source": [
        "# Create huggingface dataset\n",
        "dataset1 = DatasetDict({\n",
        "    'train': Dataset.from_pandas(train_data, preserve_index=False),\n",
        "    'val': Dataset.from_pandas(val_data, preserve_index=False),\n",
        "    'test': Dataset.from_pandas(test_data, preserve_index=False)\n",
        "})\n",
        "dataset1"
      ],
      "metadata": {
        "id": "mRUhq9VArHjX",
        "outputId": "d2ea0436-d1cf-4251-d310-9646f09351de",
        "trusted": true,
        "execution": {
          "iopub.status.busy": "2025-05-19T18:21:26.647819Z",
          "iopub.execute_input": "2025-05-19T18:21:26.648096Z",
          "iopub.status.idle": "2025-05-19T18:21:26.682032Z",
          "shell.execute_reply.started": "2025-05-19T18:21:26.648077Z",
          "shell.execute_reply": "2025-05-19T18:21:26.681377Z"
        }
      },
      "outputs": [
        {
          "execution_count": 19,
          "output_type": "execute_result",
          "data": {
            "text/plain": "DatasetDict({\n    train: Dataset({\n        features: ['yor', 'en'],\n        num_rows: 3600\n    })\n    val: Dataset({\n        features: ['yor', 'en'],\n        num_rows: 1000\n    })\n    test: Dataset({\n        features: ['yor', 'en'],\n        num_rows: 400\n    })\n})"
          },
          "metadata": {}
        }
      ],
      "execution_count": null
    },
    {
      "cell_type": "code",
      "source": [
        "# Load en-yor dataset from huggingface\n",
        "datasets = load_dataset(\"jonathansuru/en_yor\")\n",
        "datasets"
      ],
      "metadata": {
        "id": "H9AX4PsRflMA",
        "outputId": "6ef5a139-eeea-490a-c739-82db86cc5abe",
        "trusted": true,
        "execution": {
          "iopub.status.busy": "2025-05-19T18:21:31.712879Z",
          "iopub.execute_input": "2025-05-19T18:21:31.713184Z",
          "iopub.status.idle": "2025-05-19T18:21:39.037952Z",
          "shell.execute_reply.started": "2025-05-19T18:21:31.713164Z",
          "shell.execute_reply": "2025-05-19T18:21:39.037284Z"
        },
        "colab": {
          "referenced_widgets": [
            "070327cf0dc949279b05866e4fab7c27",
            "cadcb8b931504196ad7c4275bde09f4b",
            "18f64392579a44cd915131d2e4a53268",
            "bae18d4a47804f18878e8c0c5ca5aea6",
            "10a298efeec24eb88898ca8140395c83",
            "00866e444dac431d841cede4c6286d6a",
            "2a10549cb9364f57977841e69ab1828a"
          ]
        }
      },
      "outputs": [
        {
          "output_type": "display_data",
          "data": {
            "text/plain": "README.md:   0%|          | 0.00/553 [00:00<?, ?B/s]",
            "application/vnd.jupyter.widget-view+json": {
              "version_major": 2,
              "version_minor": 0,
              "model_id": "070327cf0dc949279b05866e4fab7c27"
            }
          },
          "metadata": {}
        },
        {
          "output_type": "display_data",
          "data": {
            "text/plain": "data/train-00000-of-00001.parquet:   0%|          | 0.00/1.13M [00:00<?, ?B/s]",
            "application/vnd.jupyter.widget-view+json": {
              "version_major": 2,
              "version_minor": 0,
              "model_id": "cadcb8b931504196ad7c4275bde09f4b"
            }
          },
          "metadata": {}
        },
        {
          "output_type": "display_data",
          "data": {
            "text/plain": "data/validation-00000-of-00001.parquet:   0%|          | 0.00/304k [00:00<?, ?B/s]",
            "application/vnd.jupyter.widget-view+json": {
              "version_major": 2,
              "version_minor": 0,
              "model_id": "18f64392579a44cd915131d2e4a53268"
            }
          },
          "metadata": {}
        },
        {
          "output_type": "display_data",
          "data": {
            "text/plain": "data/test-00000-of-00001.parquet:   0%|          | 0.00/290k [00:00<?, ?B/s]",
            "application/vnd.jupyter.widget-view+json": {
              "version_major": 2,
              "version_minor": 0,
              "model_id": "bae18d4a47804f18878e8c0c5ca5aea6"
            }
          },
          "metadata": {}
        },
        {
          "output_type": "display_data",
          "data": {
            "text/plain": "Generating train split:   0%|          | 0/6644 [00:00<?, ? examples/s]",
            "application/vnd.jupyter.widget-view+json": {
              "version_major": 2,
              "version_minor": 0,
              "model_id": "10a298efeec24eb88898ca8140395c83"
            }
          },
          "metadata": {}
        },
        {
          "output_type": "display_data",
          "data": {
            "text/plain": "Generating validation split:   0%|          | 0/1544 [00:00<?, ? examples/s]",
            "application/vnd.jupyter.widget-view+json": {
              "version_major": 2,
              "version_minor": 0,
              "model_id": "00866e444dac431d841cede4c6286d6a"
            }
          },
          "metadata": {}
        },
        {
          "output_type": "display_data",
          "data": {
            "text/plain": "Generating test split:   0%|          | 0/1558 [00:00<?, ? examples/s]",
            "application/vnd.jupyter.widget-view+json": {
              "version_major": 2,
              "version_minor": 0,
              "model_id": "2a10549cb9364f57977841e69ab1828a"
            }
          },
          "metadata": {}
        },
        {
          "execution_count": 20,
          "output_type": "execute_result",
          "data": {
            "text/plain": "DatasetDict({\n    train: Dataset({\n        features: ['translation'],\n        num_rows: 6644\n    })\n    validation: Dataset({\n        features: ['translation'],\n        num_rows: 1544\n    })\n    test: Dataset({\n        features: ['translation'],\n        num_rows: 1558\n    })\n})"
          },
          "metadata": {}
        }
      ],
      "execution_count": null
    },
    {
      "cell_type": "code",
      "source": [
        "b = datasets['train'].to_pandas() # Convert huggingface dataset to pandas dataframe for processing"
      ],
      "metadata": {
        "id": "t1k7f4KKflJX",
        "trusted": true,
        "execution": {
          "iopub.status.busy": "2025-05-19T18:21:45.908093Z",
          "iopub.execute_input": "2025-05-19T18:21:45.908605Z",
          "iopub.status.idle": "2025-05-19T18:21:45.932214Z",
          "shell.execute_reply.started": "2025-05-19T18:21:45.908583Z",
          "shell.execute_reply": "2025-05-19T18:21:45.931661Z"
        }
      },
      "outputs": [],
      "execution_count": null
    },
    {
      "cell_type": "code",
      "source": [
        "train_index = int(0.8 * len(b))    # train set size\n",
        "val_index = train_index + int(0.8 * len(b[train_index:]))"
      ],
      "metadata": {
        "id": "BrZsnjQn4qQN",
        "trusted": true,
        "execution": {
          "iopub.status.busy": "2025-05-19T18:21:46.362614Z",
          "iopub.execute_input": "2025-05-19T18:21:46.363593Z",
          "iopub.status.idle": "2025-05-19T18:21:46.367074Z",
          "shell.execute_reply.started": "2025-05-19T18:21:46.363560Z",
          "shell.execute_reply": "2025-05-19T18:21:46.366493Z"
        }
      },
      "outputs": [],
      "execution_count": null
    },
    {
      "cell_type": "code",
      "source": [
        "# Split the dataset\n",
        "train_dict = {'en': [item['en'] for item in b['translation'].tolist()[:train_index]], 'yor': [item['yor'] for item in b['translation'].tolist()[:train_index]]}\n",
        "val_dict = {'en': [item['en'] for item in b['translation'].tolist()[train_index:val_index]], 'yor': [item['yor'] for item in b['translation'].tolist()[train_index:val_index]]}\n",
        "test_dict = {'en': [item['en'] for item in b['translation'].tolist()[val_index:]], 'yor': [item['yor'] for item in b['translation'].tolist()[val_index:]]}\n",
        "datasets2 = DatasetDict({\"train\": Dataset.from_dict(train_dict),\n",
        "                         \"val\": Dataset.from_dict(val_dict),\n",
        "                         \"test\": Dataset.from_dict(test_dict)})\n",
        "datasets2"
      ],
      "metadata": {
        "id": "Xta8ORwRflGD",
        "outputId": "0f4f9381-8071-4dd8-ef1c-a35b9fd30a06",
        "trusted": true,
        "execution": {
          "iopub.status.busy": "2025-05-19T18:21:46.958649Z",
          "iopub.execute_input": "2025-05-19T18:21:46.959349Z",
          "iopub.status.idle": "2025-05-19T18:21:47.000067Z",
          "shell.execute_reply.started": "2025-05-19T18:21:46.959322Z",
          "shell.execute_reply": "2025-05-19T18:21:46.999488Z"
        }
      },
      "outputs": [
        {
          "execution_count": 24,
          "output_type": "execute_result",
          "data": {
            "text/plain": "DatasetDict({\n    train: Dataset({\n        features: ['en', 'yor'],\n        num_rows: 5315\n    })\n    val: Dataset({\n        features: ['en', 'yor'],\n        num_rows: 1063\n    })\n    test: Dataset({\n        features: ['en', 'yor'],\n        num_rows: 266\n    })\n})"
          },
          "metadata": {}
        }
      ],
      "execution_count": null
    },
    {
      "cell_type": "code",
      "source": [
        "new_datasets = DatasetDict({})  # Empty dataset to store concatenated dataset"
      ],
      "metadata": {
        "id": "BvjVAdx0Knfd",
        "trusted": true,
        "execution": {
          "iopub.status.busy": "2025-05-19T18:21:54.573149Z",
          "iopub.execute_input": "2025-05-19T18:21:54.573872Z",
          "iopub.status.idle": "2025-05-19T18:21:54.577230Z",
          "shell.execute_reply.started": "2025-05-19T18:21:54.573841Z",
          "shell.execute_reply": "2025-05-19T18:21:54.576498Z"
        }
      },
      "outputs": [],
      "execution_count": null
    },
    {
      "cell_type": "code",
      "source": [
        "new_datasets['train'] = concatenate_datasets([dataset1['train'], datasets2['train']])\n",
        "new_datasets['val'] = concatenate_datasets([dataset1['val'], datasets2['val']])\n",
        "new_datasets['test'] = concatenate_datasets([dataset1['test'], datasets2['test']])\n",
        "new_datasets"
      ],
      "metadata": {
        "id": "MJjYGLLsfk_Q",
        "outputId": "f2ce0280-f50a-40da-f435-85ee7b036dc9",
        "trusted": true,
        "execution": {
          "iopub.status.busy": "2025-05-19T18:21:58.007774Z",
          "iopub.execute_input": "2025-05-19T18:21:58.008033Z",
          "iopub.status.idle": "2025-05-19T18:21:58.020738Z",
          "shell.execute_reply.started": "2025-05-19T18:21:58.008015Z",
          "shell.execute_reply": "2025-05-19T18:21:58.020155Z"
        }
      },
      "outputs": [
        {
          "execution_count": 27,
          "output_type": "execute_result",
          "data": {
            "text/plain": "DatasetDict({\n    train: Dataset({\n        features: ['yor', 'en'],\n        num_rows: 8915\n    })\n    val: Dataset({\n        features: ['yor', 'en'],\n        num_rows: 2063\n    })\n    test: Dataset({\n        features: ['yor', 'en'],\n        num_rows: 666\n    })\n})"
          },
          "metadata": {}
        }
      ],
      "execution_count": null
    },
    {
      "cell_type": "code",
      "source": [
        "# Load the mT5 model and tokenizer\n",
        "model_name = \"google/mt5-small\"\n",
        "tokenizer = AutoTokenizer.from_pretrained(model_name)\n",
        "model = AutoModelForSeq2SeqLM.from_pretrained(model_name)"
      ],
      "metadata": {
        "id": "6XCMjAyUMmEl",
        "trusted": true,
        "execution": {
          "iopub.status.busy": "2025-05-19T18:22:58.677834Z",
          "iopub.execute_input": "2025-05-19T18:22:58.678173Z",
          "iopub.status.idle": "2025-05-19T18:23:20.299032Z",
          "shell.execute_reply.started": "2025-05-19T18:22:58.678131Z",
          "shell.execute_reply": "2025-05-19T18:23:20.298166Z"
        }
      },
      "outputs": [],
      "execution_count": null
    },
    {
      "cell_type": "code",
      "source": [
        "# Move model to GPU if available\n",
        "device = torch.device(\"cuda\" if torch.cuda.is_available() else \"cpu\")\n",
        "model.to(device)"
      ],
      "metadata": {
        "id": "KJJL4VJBqPN2",
        "outputId": "6a90e005-20c2-4a08-d90f-94bffda3cbec",
        "trusted": true,
        "execution": {
          "iopub.status.busy": "2025-05-19T18:23:20.300283Z",
          "iopub.execute_input": "2025-05-19T18:23:20.300492Z",
          "iopub.status.idle": "2025-05-19T18:23:20.907700Z",
          "shell.execute_reply.started": "2025-05-19T18:23:20.300476Z",
          "shell.execute_reply": "2025-05-19T18:23:20.906869Z"
        }
      },
      "outputs": [
        {
          "execution_count": 29,
          "output_type": "execute_result",
          "data": {
            "text/plain": "MT5ForConditionalGeneration(\n  (shared): Embedding(250112, 512)\n  (encoder): MT5Stack(\n    (embed_tokens): Embedding(250112, 512)\n    (block): ModuleList(\n      (0): MT5Block(\n        (layer): ModuleList(\n          (0): MT5LayerSelfAttention(\n            (SelfAttention): MT5Attention(\n              (q): Linear(in_features=512, out_features=384, bias=False)\n              (k): Linear(in_features=512, out_features=384, bias=False)\n              (v): Linear(in_features=512, out_features=384, bias=False)\n              (o): Linear(in_features=384, out_features=512, bias=False)\n              (relative_attention_bias): Embedding(32, 6)\n            )\n            (layer_norm): MT5LayerNorm()\n            (dropout): Dropout(p=0.1, inplace=False)\n          )\n          (1): MT5LayerFF(\n            (DenseReluDense): MT5DenseGatedActDense(\n              (wi_0): Linear(in_features=512, out_features=1024, bias=False)\n              (wi_1): Linear(in_features=512, out_features=1024, bias=False)\n              (wo): Linear(in_features=1024, out_features=512, bias=False)\n              (dropout): Dropout(p=0.1, inplace=False)\n              (act): NewGELUActivation()\n            )\n            (layer_norm): MT5LayerNorm()\n            (dropout): Dropout(p=0.1, inplace=False)\n          )\n        )\n      )\n      (1-7): 7 x MT5Block(\n        (layer): ModuleList(\n          (0): MT5LayerSelfAttention(\n            (SelfAttention): MT5Attention(\n              (q): Linear(in_features=512, out_features=384, bias=False)\n              (k): Linear(in_features=512, out_features=384, bias=False)\n              (v): Linear(in_features=512, out_features=384, bias=False)\n              (o): Linear(in_features=384, out_features=512, bias=False)\n            )\n            (layer_norm): MT5LayerNorm()\n            (dropout): Dropout(p=0.1, inplace=False)\n          )\n          (1): MT5LayerFF(\n            (DenseReluDense): MT5DenseGatedActDense(\n              (wi_0): Linear(in_features=512, out_features=1024, bias=False)\n              (wi_1): Linear(in_features=512, out_features=1024, bias=False)\n              (wo): Linear(in_features=1024, out_features=512, bias=False)\n              (dropout): Dropout(p=0.1, inplace=False)\n              (act): NewGELUActivation()\n            )\n            (layer_norm): MT5LayerNorm()\n            (dropout): Dropout(p=0.1, inplace=False)\n          )\n        )\n      )\n    )\n    (final_layer_norm): MT5LayerNorm()\n    (dropout): Dropout(p=0.1, inplace=False)\n  )\n  (decoder): MT5Stack(\n    (embed_tokens): Embedding(250112, 512)\n    (block): ModuleList(\n      (0): MT5Block(\n        (layer): ModuleList(\n          (0): MT5LayerSelfAttention(\n            (SelfAttention): MT5Attention(\n              (q): Linear(in_features=512, out_features=384, bias=False)\n              (k): Linear(in_features=512, out_features=384, bias=False)\n              (v): Linear(in_features=512, out_features=384, bias=False)\n              (o): Linear(in_features=384, out_features=512, bias=False)\n              (relative_attention_bias): Embedding(32, 6)\n            )\n            (layer_norm): MT5LayerNorm()\n            (dropout): Dropout(p=0.1, inplace=False)\n          )\n          (1): MT5LayerCrossAttention(\n            (EncDecAttention): MT5Attention(\n              (q): Linear(in_features=512, out_features=384, bias=False)\n              (k): Linear(in_features=512, out_features=384, bias=False)\n              (v): Linear(in_features=512, out_features=384, bias=False)\n              (o): Linear(in_features=384, out_features=512, bias=False)\n            )\n            (layer_norm): MT5LayerNorm()\n            (dropout): Dropout(p=0.1, inplace=False)\n          )\n          (2): MT5LayerFF(\n            (DenseReluDense): MT5DenseGatedActDense(\n              (wi_0): Linear(in_features=512, out_features=1024, bias=False)\n              (wi_1): Linear(in_features=512, out_features=1024, bias=False)\n              (wo): Linear(in_features=1024, out_features=512, bias=False)\n              (dropout): Dropout(p=0.1, inplace=False)\n              (act): NewGELUActivation()\n            )\n            (layer_norm): MT5LayerNorm()\n            (dropout): Dropout(p=0.1, inplace=False)\n          )\n        )\n      )\n      (1-7): 7 x MT5Block(\n        (layer): ModuleList(\n          (0): MT5LayerSelfAttention(\n            (SelfAttention): MT5Attention(\n              (q): Linear(in_features=512, out_features=384, bias=False)\n              (k): Linear(in_features=512, out_features=384, bias=False)\n              (v): Linear(in_features=512, out_features=384, bias=False)\n              (o): Linear(in_features=384, out_features=512, bias=False)\n            )\n            (layer_norm): MT5LayerNorm()\n            (dropout): Dropout(p=0.1, inplace=False)\n          )\n          (1): MT5LayerCrossAttention(\n            (EncDecAttention): MT5Attention(\n              (q): Linear(in_features=512, out_features=384, bias=False)\n              (k): Linear(in_features=512, out_features=384, bias=False)\n              (v): Linear(in_features=512, out_features=384, bias=False)\n              (o): Linear(in_features=384, out_features=512, bias=False)\n            )\n            (layer_norm): MT5LayerNorm()\n            (dropout): Dropout(p=0.1, inplace=False)\n          )\n          (2): MT5LayerFF(\n            (DenseReluDense): MT5DenseGatedActDense(\n              (wi_0): Linear(in_features=512, out_features=1024, bias=False)\n              (wi_1): Linear(in_features=512, out_features=1024, bias=False)\n              (wo): Linear(in_features=1024, out_features=512, bias=False)\n              (dropout): Dropout(p=0.1, inplace=False)\n              (act): NewGELUActivation()\n            )\n            (layer_norm): MT5LayerNorm()\n            (dropout): Dropout(p=0.1, inplace=False)\n          )\n        )\n      )\n    )\n    (final_layer_norm): MT5LayerNorm()\n    (dropout): Dropout(p=0.1, inplace=False)\n  )\n  (lm_head): Linear(in_features=512, out_features=250112, bias=False)\n)"
          },
          "metadata": {}
        }
      ],
      "execution_count": null
    },
    {
      "cell_type": "code",
      "source": [
        "def preprocess_function(examples):\n",
        "  inputs = [\"\" + example for example in examples['en']]\n",
        "  model_inputs = tokenizer(inputs, max_length=128, return_tensors='pt', truncation=True, padding=\"max_length\")\n",
        "  labels = tokenizer(examples['yor'], max_length=128, return_tensors='pt', truncation=True, padding=\"max_length\").input_ids\n",
        "  model_inputs[\"labels\"] = labels\n",
        "  return model_inputs"
      ],
      "metadata": {
        "id": "ChX5HJTAfk7R",
        "trusted": true,
        "execution": {
          "iopub.status.busy": "2025-05-19T18:26:53.843880Z",
          "iopub.execute_input": "2025-05-19T18:26:53.844199Z",
          "iopub.status.idle": "2025-05-19T18:26:53.848918Z",
          "shell.execute_reply.started": "2025-05-19T18:26:53.844177Z",
          "shell.execute_reply": "2025-05-19T18:26:53.848156Z"
        }
      },
      "outputs": [],
      "execution_count": null
    },
    {
      "cell_type": "code",
      "source": [
        "preprocessed_dataset = new_datasets.map(preprocess_function, batched=True, remove_columns=new_datasets['train'].column_names)\n",
        "preprocessed_dataset"
      ],
      "metadata": {
        "id": "Q3QSt4HUfk4v",
        "outputId": "67160eef-29dc-45bd-b250-a16144cb613f",
        "trusted": true,
        "execution": {
          "iopub.status.busy": "2025-05-19T18:26:58.442910Z",
          "iopub.execute_input": "2025-05-19T18:26:58.443609Z",
          "iopub.status.idle": "2025-05-19T18:27:01.082461Z",
          "shell.execute_reply.started": "2025-05-19T18:26:58.443587Z",
          "shell.execute_reply": "2025-05-19T18:27:01.081730Z"
        },
        "colab": {
          "referenced_widgets": [
            "c80799cf137744abab26177a10bce04b",
            "dfa6883344944ba2a811ab6ceebb7ac6",
            "398304af3ad3463ba8fc227316002e38"
          ]
        }
      },
      "outputs": [
        {
          "output_type": "display_data",
          "data": {
            "text/plain": "Map:   0%|          | 0/8915 [00:00<?, ? examples/s]",
            "application/vnd.jupyter.widget-view+json": {
              "version_major": 2,
              "version_minor": 0,
              "model_id": "c80799cf137744abab26177a10bce04b"
            }
          },
          "metadata": {}
        },
        {
          "output_type": "display_data",
          "data": {
            "text/plain": "Map:   0%|          | 0/2063 [00:00<?, ? examples/s]",
            "application/vnd.jupyter.widget-view+json": {
              "version_major": 2,
              "version_minor": 0,
              "model_id": "dfa6883344944ba2a811ab6ceebb7ac6"
            }
          },
          "metadata": {}
        },
        {
          "output_type": "display_data",
          "data": {
            "text/plain": "Map:   0%|          | 0/666 [00:00<?, ? examples/s]",
            "application/vnd.jupyter.widget-view+json": {
              "version_major": 2,
              "version_minor": 0,
              "model_id": "398304af3ad3463ba8fc227316002e38"
            }
          },
          "metadata": {}
        },
        {
          "execution_count": 31,
          "output_type": "execute_result",
          "data": {
            "text/plain": "DatasetDict({\n    train: Dataset({\n        features: ['input_ids', 'attention_mask', 'labels'],\n        num_rows: 8915\n    })\n    val: Dataset({\n        features: ['input_ids', 'attention_mask', 'labels'],\n        num_rows: 2063\n    })\n    test: Dataset({\n        features: ['input_ids', 'attention_mask', 'labels'],\n        num_rows: 666\n    })\n})"
          },
          "metadata": {}
        }
      ],
      "execution_count": null
    },
    {
      "cell_type": "code",
      "source": [
        "data_collator = DataCollatorForSeq2Seq(tokenizer=tokenizer,\n",
        "                                       model=model,\n",
        "                                       padding=False,\n",
        "                                       label_pad_token_id=tokenizer.pad_token_id)"
      ],
      "metadata": {
        "id": "jpGaYUaPORIA",
        "trusted": true,
        "execution": {
          "iopub.status.busy": "2025-05-19T18:30:53.934844Z",
          "iopub.execute_input": "2025-05-19T18:30:53.935443Z",
          "iopub.status.idle": "2025-05-19T18:30:53.938983Z",
          "shell.execute_reply.started": "2025-05-19T18:30:53.935417Z",
          "shell.execute_reply": "2025-05-19T18:30:53.938338Z"
        }
      },
      "outputs": [],
      "execution_count": null
    },
    {
      "cell_type": "code",
      "source": [
        "def postprocess_text(preds, labels):\n",
        "  preds = [pred.strip() for pred in preds]\n",
        "  labels = [[label.strip()] for label in labels]\n",
        "\n",
        "  return preds, labels"
      ],
      "metadata": {
        "id": "XoZvvTFE9uGl",
        "trusted": true,
        "execution": {
          "iopub.status.busy": "2025-05-19T18:31:13.213692Z",
          "iopub.execute_input": "2025-05-19T18:31:13.213949Z",
          "iopub.status.idle": "2025-05-19T18:31:13.218333Z",
          "shell.execute_reply.started": "2025-05-19T18:31:13.213932Z",
          "shell.execute_reply": "2025-05-19T18:31:13.217553Z"
        }
      },
      "outputs": [],
      "execution_count": null
    },
    {
      "cell_type": "code",
      "source": [
        "custom_optimizer = torch.optim.AdamW(\n",
        "    model.parameters(),\n",
        "    lr=3e-4,\n",
        "    eps=1e-8,\n",
        "    weight_decay=0.01,\n",
        ")"
      ],
      "metadata": {
        "trusted": true,
        "execution": {
          "iopub.status.busy": "2025-05-19T18:32:37.352865Z",
          "iopub.execute_input": "2025-05-19T18:32:37.353183Z",
          "iopub.status.idle": "2025-05-19T18:32:37.358738Z",
          "shell.execute_reply.started": "2025-05-19T18:32:37.353160Z",
          "shell.execute_reply": "2025-05-19T18:32:37.357952Z"
        },
        "id": "ItOx-WqwBIuB"
      },
      "outputs": [],
      "execution_count": null
    },
    {
      "cell_type": "code",
      "source": [
        "def compute_metrics(eval_preds):\n",
        "  preds, labels = eval_preds\n",
        "\n",
        "  if isinstance(preds, tuple):\n",
        "    preds = preds[0]\n",
        "\n",
        "  # Decode predictions\n",
        "  decoded_preds = tokenizer.batch_decode(preds, skip_special_tokens=True)\n",
        "\n",
        "  # Decode labels, handling -100 masking for tokenizers\n",
        "  labels = np.where(labels != -100, labels, tokenizer.pad_token_id)\n",
        "  decoded_labels = tokenizer.batch_decode(labels, skip_special_tokens=True)\n",
        "\n",
        "  decoded_preds, decoded_labels = postprocess_text(decoded_preds, decoded_labels)\n",
        "\n",
        "  # Calculate BLEU score\n",
        "  bleu = corpus_bleu(decoded_preds, decoded_labels).score\n",
        "\n",
        "  return {\"bleu\": bleu}"
      ],
      "metadata": {
        "id": "_NN6C3-6ORGD",
        "trusted": true,
        "execution": {
          "iopub.status.busy": "2025-05-19T18:32:48.827799Z",
          "iopub.execute_input": "2025-05-19T18:32:48.828518Z",
          "iopub.status.idle": "2025-05-19T18:32:48.832763Z",
          "shell.execute_reply.started": "2025-05-19T18:32:48.828496Z",
          "shell.execute_reply": "2025-05-19T18:32:48.832157Z"
        }
      },
      "outputs": [],
      "execution_count": null
    },
    {
      "cell_type": "code",
      "source": [
        "training_args = Seq2SeqTrainingArguments(\n",
        "    output_dir='./my_yor_translation_model',\n",
        "    eval_strategy='epoch',\n",
        "    learning_rate=3e-4,\n",
        "    weight_decay=.01,\n",
        "    num_train_epochs=10,\n",
        "    save_total_limit=1,\n",
        "    predict_with_generate=True,\n",
        "    lr_scheduler_type='cosine',\n",
        "    warmup_steps=100,\n",
        "    logging_dir='./logs',\n",
        "    logging_steps=10,\n",
        "    report_to='none'\n",
        ")\n",
        "\n",
        "trainer = Seq2SeqTrainer(\n",
        "    model=model,\n",
        "    args=training_args,\n",
        "    train_dataset=preprocessed_dataset['train'],\n",
        "    eval_dataset=preprocessed_dataset['val'],\n",
        "    data_collator=data_collator,\n",
        "    processing_class=tokenizer,\n",
        "    optimizers=(custom_optimizer, None),\n",
        "    compute_metrics=compute_metrics,\n",
        ")\n",
        "\n",
        "# Train model\n",
        "trainer.train()"
      ],
      "metadata": {
        "id": "E_Wqb2vNORCe",
        "outputId": "66c13f0e-a923-4692-d811-1c6861d03750",
        "trusted": true,
        "execution": {
          "iopub.status.busy": "2025-05-19T19:09:44.782798Z",
          "iopub.execute_input": "2025-05-19T19:09:44.783297Z",
          "iopub.status.idle": "2025-05-19T20:16:02.032314Z",
          "shell.execute_reply.started": "2025-05-19T19:09:44.783274Z",
          "shell.execute_reply": "2025-05-19T20:16:02.031554Z"
        }
      },
      "outputs": [
        {
          "output_type": "display_data",
          "data": {
            "text/plain": "<IPython.core.display.HTML object>",
            "text/html": "\n    <div>\n      \n      <progress value='11150' max='11150' style='width:300px; height:20px; vertical-align: middle;'></progress>\n      [11150/11150 1:06:16, Epoch 10/10]\n    </div>\n    <table border=\"1\" class=\"dataframe\">\n  <thead>\n <tr style=\"text-align: left;\">\n      <th>Epoch</th>\n      <th>Training Loss</th>\n      <th>Validation Loss</th>\n      <th>Bleu</th>\n    </tr>\n  </thead>\n  <tbody>\n    <tr>\n      <td>1</td>\n      <td>1.245300</td>\n      <td>1.164943</td>\n      <td>30.213754</td>\n    </tr>\n    <tr>\n      <td>2</td>\n      <td>1.190600</td>\n      <td>1.008712</td>\n      <td>35.930411</td>\n    </tr>\n    <tr>\n      <td>3</td>\n      <td>1.018800</td>\n      <td>0.931542</td>\n      <td>52.331757</td>\n    </tr>\n    <tr>\n      <td>4</td>\n      <td>0.872900</td>\n      <td>0.878140</td>\n      <td>46.713798</td>\n    </tr>\n    <tr>\n      <td>5</td>\n      <td>0.858900</td>\n      <td>0.848673</td>\n      <td>56.234133</td>\n    </tr>\n    <tr>\n      <td>6</td>\n      <td>0.688900</td>\n      <td>0.827404</td>\n      <td>79.527073</td>\n    </tr>\n    <tr>\n      <td>7</td>\n      <td>0.742700</td>\n      <td>0.810270</td>\n      <td>43.472087</td>\n    </tr>\n    <tr>\n      <td>8</td>\n      <td>0.689000</td>\n      <td>0.805836</td>\n      <td>28.117066</td>\n    </tr>\n    <tr>\n      <td>9</td>\n      <td>0.682100</td>\n      <td>0.806482</td>\n      <td>79.527073</td>\n    </tr>\n    <tr>\n      <td>10</td>\n      <td>0.648600</td>\n      <td>0.807220</td>\n      <td>79.527073</td>\n    </tr>\n  </tbody>\n</table><p>"
          },
          "metadata": {}
        },
        {
          "execution_count": 51,
          "output_type": "execute_result",
          "data": {
            "text/plain": "TrainOutput(global_step=11150, training_loss=0.900098719062292, metrics={'train_runtime': 3976.6176, 'train_samples_per_second': 22.419, 'train_steps_per_second': 2.804, 'total_flos': 1.1784508735488e+16, 'train_loss': 0.900098719062292, 'epoch': 10.0})"
          },
          "metadata": {}
        }
      ],
      "execution_count": null
    },
    {
      "cell_type": "code",
      "source": [
        "eval_results = trainer.evaluate()"
      ],
      "metadata": {
        "id": "Mj468VbPYDDT",
        "outputId": "b80b5d6b-fb47-4251-8782-51dfeff3b944",
        "trusted": true,
        "execution": {
          "iopub.status.busy": "2025-05-19T20:16:23.782253Z",
          "iopub.execute_input": "2025-05-19T20:16:23.782529Z",
          "iopub.status.idle": "2025-05-19T20:17:53.082800Z",
          "shell.execute_reply.started": "2025-05-19T20:16:23.782509Z",
          "shell.execute_reply": "2025-05-19T20:17:53.082280Z"
        }
      },
      "outputs": [
        {
          "output_type": "display_data",
          "data": {
            "text/plain": "<IPython.core.display.HTML object>",
            "text/html": "\n    <div>\n      \n      <progress value='258' max='258' style='width:300px; height:20px; vertical-align: middle;'></progress>\n      [258/258 01:28]\n    </div>\n    "
          },
          "metadata": {}
        }
      ],
      "execution_count": null
    },
    {
      "cell_type": "code",
      "source": [
        "print(eval_results)"
      ],
      "metadata": {
        "id": "pah7VvRQi-KT",
        "trusted": true,
        "execution": {
          "iopub.status.busy": "2025-05-19T20:17:59.312358Z",
          "iopub.execute_input": "2025-05-19T20:17:59.312883Z",
          "iopub.status.idle": "2025-05-19T20:17:59.316738Z",
          "shell.execute_reply.started": "2025-05-19T20:17:59.312858Z",
          "shell.execute_reply": "2025-05-19T20:17:59.316165Z"
        },
        "outputId": "9f99f753-3f21-40b0-9b24-419a8486a77e"
      },
      "outputs": [
        {
          "name": "stdout",
          "text": "{'eval_loss': 0.8072203397750854, 'eval_bleu': 79.52707287670508, 'eval_runtime': 89.2929, 'eval_samples_per_second': 23.104, 'eval_steps_per_second': 2.889, 'epoch': 10.0}\n",
          "output_type": "stream"
        }
      ],
      "execution_count": null
    },
    {
      "cell_type": "code",
      "source": [
        "trainer.save_model(\"./mt5-finetuned-en-yor\")"
      ],
      "metadata": {
        "trusted": true,
        "execution": {
          "iopub.status.busy": "2025-05-19T20:19:10.143632Z",
          "iopub.execute_input": "2025-05-19T20:19:10.144283Z",
          "iopub.status.idle": "2025-05-19T20:19:13.329520Z",
          "shell.execute_reply.started": "2025-05-19T20:19:10.144262Z",
          "shell.execute_reply": "2025-05-19T20:19:13.328968Z"
        },
        "id": "SDb89Di0BIuF"
      },
      "outputs": [],
      "execution_count": null
    },
    {
      "cell_type": "code",
      "source": [
        "sample_text = new_datasets['test']['en'][:5]\n",
        "sample_text_target = new_datasets['test']['yor'][:5]\n",
        "for source, target in zip(sample_text, sample_text_target):\n",
        "  print(f\"Source: {source} \\nTarget: {target}\\n\")"
      ],
      "metadata": {
        "id": "AJj8JzAujhEy",
        "outputId": "c97041ab-8807-4972-e66e-1880dd6a197c",
        "trusted": true,
        "execution": {
          "iopub.status.busy": "2025-05-19T20:20:12.792824Z",
          "iopub.execute_input": "2025-05-19T20:20:12.793374Z",
          "iopub.status.idle": "2025-05-19T20:20:12.800517Z",
          "shell.execute_reply.started": "2025-05-19T20:20:12.793353Z",
          "shell.execute_reply": "2025-05-19T20:20:12.799882Z"
        }
      },
      "outputs": [
        {
          "name": "stdout",
          "text": "Source: I had to make changes, to try to manifest my feelings more, in order for my friends to understand what I was feeling and to feel closer to me.” \nTarget: Mo ní láti ṣe àwọn ìyípadà, kí n lè túbọ̀ máa sọ tinú mi jáde, káwọn ọ̀rẹ́ mi bàa lè mọ ohun tó wà lọ́kàn mi kí ọwọ́ wa sì wọ ọwọ́.”\n\nSource: Explain how different scriptures can help a young person to get a balanced view of employment. \nTarget: Ṣàlàyé bí onírúurú ẹsẹ Ìwé Mímọ́ ṣe lè ran ọ̀dọ́ kan lọ́wọ́ láti ní èrò tó yẹ nípa iṣẹ́ oúnjẹ òòjọ́?\n\nSource: Nevertheless, it favors the rich and the powerful over the poor and the needy. \nTarget: Àmọ́ àwọn tó lówó àtàwọn tó nípò ló ń jàǹfààní ẹ̀, kò dé ọ̀dọ̀ àwọn mẹ̀kúnnù àtàwọn akúṣẹ̀ẹ́.\n\nSource: And what a powerful reason that is for displaying loving - kindness in our speech as well as in other aspects of our daily life! \nTarget: Ìdí pàtàkì sì lèyí jẹ́ fún wa láti máa fi inú - rere - onífẹ̀ẹ́ hàn nínú ọ̀rọ̀ tó ń tẹnu wa jáde àti nínú bá a ṣe ń gbé ìgbé ayé wa lójoojúmọ́!\n\nSource: For areas under direct royal administration, tax brokers or chief tax collectors ​ — wealthy individuals who bought at auction the right to collect taxes — ​ would have authority to stipulate contracts with fishermen for the lease of fishing rights. \nTarget: Ní àwọn àgbègbè tí ọba ń fúnra rẹ̀ darí, àwọn olórí agbowó orí, ìyẹn àwọn ọlọ́rọ̀ tí wọ́n fi owó rẹpẹtẹ ra ẹ̀tọ́ láti máa gbowó orí, ló láṣẹ láti máa ṣàdéhùn òwò ẹja pípá pẹ̀lú àwọn apẹja kí àwọn apẹja bàa lè lẹ́tọ̀ọ́ láti máa pẹja.\n\n",
          "output_type": "stream"
        }
      ],
      "execution_count": null
    },
    {
      "cell_type": "markdown",
      "source": [
        "#### Test the model"
      ],
      "metadata": {
        "id": "GuNWjLY0Gw5g"
      }
    },
    {
      "cell_type": "code",
      "source": [
        "inputs = [\"\" + example for example in sample_text]\n",
        "inputs = tokenizer(inputs, max_length=128,return_tensors='pt', truncation=True, padding=\"max_length\").to(device)\n",
        "#translated = model.generate(**inputs, num_beams=4, length_penalty=2.0, early_stopping=True, do_sample=True, repetition_penalty=0.2)\n",
        "translated = model.generate(**inputs, max_length=128, num_beams=3,penalty_alpha=0.6, length_penalty=-2.0, early_stopping=True, repetition_penalty=2.0)\n",
        "translations = tokenizer.batch_decode(translated, skip_special_tokens=True)\n",
        "# translations = [x.strip() for x in translations]\n",
        "for source, target in zip(sample_text, translations):\n",
        "  print(f\"Source: {source} \\nTranslation: {target}\\n\")"
      ],
      "metadata": {
        "id": "wLs6iFmwmq_m",
        "outputId": "10fe9a30-42eb-4b74-da0a-602d0c893baa",
        "trusted": true,
        "execution": {
          "iopub.status.busy": "2025-05-19T21:24:34.307399Z",
          "iopub.execute_input": "2025-05-19T21:24:34.307976Z",
          "iopub.status.idle": "2025-05-19T21:24:36.072511Z",
          "shell.execute_reply.started": "2025-05-19T21:24:34.307956Z",
          "shell.execute_reply": "2025-05-19T21:24:36.071888Z"
        }
      },
      "outputs": [
        {
          "name": "stdout",
          "text": "Source: I had to make changes, to try to manifest my feelings more, in order for my friends to understand what I was feeling and to feel closer to me.” \nTranslation: Mo ní láti máa ṣe àtúnṣe sí i, kí n lè mọ ohun tí mo bá ń sọ̀rọ̀ yìí, kí n sì túbọ̀ mọ ohun tí mo wà lọ́kàn mi.”\n\nSource: Explain how different scriptures can help a young person to get a balanced view of employment. \nTranslation: Ṣàlàyé bí àwọn Ìwé Mímọ́ ṣe lè ràn wá lọ́wọ́ láti jẹ́ kí ọ̀dọ́ kan nínú iṣẹ́ ìwàásù.\n\nSource: Nevertheless, it favors the rich and the powerful over the poor and the needy. \nTranslation: Síbẹ̀síbẹ̀, ó jẹ́ kí ọ̀pọ̀lọpọ̀ èèyàn àti òṣùwọ̀n tó nílò.\n\nSource: And what a powerful reason that is for displaying loving - kindness in our speech as well as in other aspects of our daily life! \nTranslation: Àti pé ìdí tí ó jẹ́ kí nǹkan ṣe pàtàkì jù lọ fún wa nínú ọ̀rọ̀ Ọlọ́run, bí a ṣe ń fi ìfẹ́ tó wà nínú ayé wa!\n\nSource: For areas under direct royal administration, tax brokers or chief tax collectors ​ — wealthy individuals who bought at auction the right to collect taxes — ​ would have authority to stipulate contracts with fishermen for the lease of fishing rights. \nTranslation: Fún àwọn agbègbè tí wọ́n ń gbé owó – àwọn ọmọ ìbílẹ̀ tàbí kí wọ́n lè gba owó owó lórí ẹ̀tọ́ ọmọnìyàn láti fi owó sí òfin — yóò ṣe ìfilọ́lẹ̀ fún àwọn ọmọ ilẹ̀ náà.\n\n",
          "output_type": "stream"
        }
      ],
      "execution_count": null
    },
    {
      "cell_type": "code",
      "source": [
        "def translate_en(text):\n",
        "    inputs = [\"\" + str(text)]\n",
        "    inputs = tokenizer(inputs, max_length=128,return_tensors='pt', truncation=True, padding=\"max_length\").to(device)\n",
        "    translated = model.generate(**inputs, max_length=100, penalty_alpha=0.5, length_penalty=-2.0)\n",
        "    #translated = model.generate(**inputs, max_length=128, num_beams=3,penalty_alpha=0.6, length_penalty=-2.0, early_stopping=True, repetition_penalty=2.0)\n",
        "    translations = tokenizer.batch_decode(translated, skip_special_tokens=True)\n",
        "    return translations"
      ],
      "metadata": {
        "id": "BpowI4_0pkOs",
        "trusted": true,
        "execution": {
          "iopub.status.busy": "2025-05-19T21:21:42.051986Z",
          "iopub.execute_input": "2025-05-19T21:21:42.052273Z",
          "iopub.status.idle": "2025-05-19T21:21:42.056806Z",
          "shell.execute_reply.started": "2025-05-19T21:21:42.052254Z",
          "shell.execute_reply": "2025-05-19T21:21:42.056275Z"
        }
      },
      "outputs": [],
      "execution_count": null
    },
    {
      "cell_type": "code",
      "source": [
        "translation = translate_en(\"A global epidemic of hate\")\n",
        "translation"
      ],
      "metadata": {
        "trusted": true,
        "execution": {
          "iopub.status.busy": "2025-05-19T21:23:34.657179Z",
          "iopub.execute_input": "2025-05-19T21:23:34.657453Z",
          "iopub.status.idle": "2025-05-19T21:23:34.905003Z",
          "shell.execute_reply.started": "2025-05-19T21:23:34.657437Z",
          "shell.execute_reply": "2025-05-19T21:23:34.904469Z"
        },
        "scrolled": true,
        "id": "r8-DvydKBIuH",
        "outputId": "adecf44c-a520-4a29-e47a-02d3671ae8c4"
      },
      "outputs": [
        {
          "execution_count": 110,
          "output_type": "execute_result",
          "data": {
            "text/plain": "['Àrùn elétò ìkórìíra']"
          },
          "metadata": {}
        }
      ],
      "execution_count": null
    },
    {
      "cell_type": "code",
      "source": [],
      "metadata": {
        "trusted": true,
        "id": "A0iw7_mFBIuI"
      },
      "outputs": [],
      "execution_count": null
    }
  ]
}